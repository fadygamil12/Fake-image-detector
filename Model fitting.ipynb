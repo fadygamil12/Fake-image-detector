{
 "cells": [
  {
   "cell_type": "code",
   "execution_count": 1,
   "id": "58d5012d-2e60-432c-a257-3e9fc44ca2ba",
   "metadata": {},
   "outputs": [],
   "source": [
    "#Imports\n",
    "import h5py\n",
    "import pandas as pd\n",
    "import numpy as np\n",
    "import seaborn as sns\n",
    "import random\n",
    "from keras.models import load_model\n",
    "import sklearn\n",
    "from sklearn.model_selection import train_test_split\n",
    "from sklearn.metrics import confusion_matrix\n",
    "from sklearn.metrics import f1_score, precision_score, recall_score, roc_auc_score \n",
    "import itertools\n",
    "from sklearn import metrics\n",
    "from matplotlib import pyplot as plt\n",
    "\n",
    "from keras.utils.np_utils import to_categorical # convert to one-hot-encoding\n",
    "from keras.models import Sequential\n",
    "from keras.layers import Dense, Dropout, Flatten, Conv2D, MaxPool2D\n",
    "from tensorflow.keras.optimizers import RMSprop\n",
    "from keras.preprocessing.image import ImageDataGenerator\n",
    "from keras.callbacks import ReduceLROnPlateau, EarlyStopping\n",
    "\n",
    "import tensorflow as tf\n",
    "from tensorflow.keras.optimizers import Adam\n"
   ]
  },
  {
   "cell_type": "code",
   "execution_count": 2,
   "id": "ada190fb-291f-4be6-a3eb-b5dcdcc88fff",
   "metadata": {},
   "outputs": [],
   "source": [
    "# load data\n",
    "X = np.load('Xdata.npy')\n",
    "Y = np.load('Ydata.npy')"
   ]
  },
  {
   "cell_type": "code",
   "execution_count": 3,
   "id": "f9462c2e-8902-47ee-891d-f454f85da7fc",
   "metadata": {
    "scrolled": true
   },
   "outputs": [],
   "source": [
    "#Split data\n",
    "X_train, X_rem, Y_train, Y_rem = train_test_split(X, Y, test_size = 0.4, random_state=5)\n",
    "X_test, X_val, Y_test, Y_val = train_test_split(X_rem, Y_rem, test_size = 0.5, random_state=5)"
   ]
  },
  {
   "cell_type": "code",
   "execution_count": 4,
   "id": "08478fb2-d369-4cb5-839c-dc3aa02ba9eb",
   "metadata": {},
   "outputs": [],
   "source": [
    "# VGG16 MODEL\n",
    "from keras.applications.vgg16 import VGG16\n",
    "from keras.models import Model\n",
    "from keras.layers import Dense\n",
    "\n",
    "vgg16_model = VGG16(include_top=False,\n",
    "    weights=\"imagenet\",\n",
    "    input_shape=(100,100,3))\n",
    "\n",
    "for layer in vgg16_model.layers:\n",
    "    layer.trainable = False\n",
    "\n",
    "x = vgg16_model.output\n",
    "x = Dense(256, activation = \"relu\")(x)\n",
    "x = Dropout(.2)(x)\n",
    "x = Flatten()(x)\n",
    "predictions = Dense(1, activation='sigmoid')(x)\n",
    "\n",
    "model = Model(inputs=vgg16_model.input, outputs=predictions)"
   ]
  },
  {
   "cell_type": "code",
   "execution_count": 5,
   "id": "ada0ac74-d5ab-45a7-9c24-82f90c78e9c5",
   "metadata": {},
   "outputs": [
    {
     "name": "stdout",
     "output_type": "stream",
     "text": [
      "Model: \"model\"\n",
      "_________________________________________________________________\n",
      " Layer (type)                Output Shape              Param #   \n",
      "=================================================================\n",
      " input_1 (InputLayer)        [(None, 100, 100, 3)]     0         \n",
      "                                                                 \n",
      " block1_conv1 (Conv2D)       (None, 100, 100, 64)      1792      \n",
      "                                                                 \n",
      " block1_conv2 (Conv2D)       (None, 100, 100, 64)      36928     \n",
      "                                                                 \n",
      " block1_pool (MaxPooling2D)  (None, 50, 50, 64)        0         \n",
      "                                                                 \n",
      " block2_conv1 (Conv2D)       (None, 50, 50, 128)       73856     \n",
      "                                                                 \n",
      " block2_conv2 (Conv2D)       (None, 50, 50, 128)       147584    \n",
      "                                                                 \n",
      " block2_pool (MaxPooling2D)  (None, 25, 25, 128)       0         \n",
      "                                                                 \n",
      " block3_conv1 (Conv2D)       (None, 25, 25, 256)       295168    \n",
      "                                                                 \n",
      " block3_conv2 (Conv2D)       (None, 25, 25, 256)       590080    \n",
      "                                                                 \n",
      " block3_conv3 (Conv2D)       (None, 25, 25, 256)       590080    \n",
      "                                                                 \n",
      " block3_pool (MaxPooling2D)  (None, 12, 12, 256)       0         \n",
      "                                                                 \n",
      " block4_conv1 (Conv2D)       (None, 12, 12, 512)       1180160   \n",
      "                                                                 \n",
      " block4_conv2 (Conv2D)       (None, 12, 12, 512)       2359808   \n",
      "                                                                 \n",
      " block4_conv3 (Conv2D)       (None, 12, 12, 512)       2359808   \n",
      "                                                                 \n",
      " block4_pool (MaxPooling2D)  (None, 6, 6, 512)         0         \n",
      "                                                                 \n",
      " block5_conv1 (Conv2D)       (None, 6, 6, 512)         2359808   \n",
      "                                                                 \n",
      " block5_conv2 (Conv2D)       (None, 6, 6, 512)         2359808   \n",
      "                                                                 \n",
      " block5_conv3 (Conv2D)       (None, 6, 6, 512)         2359808   \n",
      "                                                                 \n",
      " block5_pool (MaxPooling2D)  (None, 3, 3, 512)         0         \n",
      "                                                                 \n",
      " dense (Dense)               (None, 3, 3, 256)         131328    \n",
      "                                                                 \n",
      " dropout (Dropout)           (None, 3, 3, 256)         0         \n",
      "                                                                 \n",
      " flatten (Flatten)           (None, 2304)              0         \n",
      "                                                                 \n",
      " dense_1 (Dense)             (None, 1)                 2305      \n",
      "                                                                 \n",
      "=================================================================\n",
      "Total params: 14,848,321\n",
      "Trainable params: 133,633\n",
      "Non-trainable params: 14,714,688\n",
      "_________________________________________________________________\n"
     ]
    }
   ],
   "source": [
    "#model summary\n",
    "model.summary()\n"
   ]
  },
  {
   "cell_type": "code",
   "execution_count": 6,
   "id": "12f61aef-b9ff-4203-8ce4-ab903d6bc7f0",
   "metadata": {},
   "outputs": [],
   "source": [
    "#model specs \n",
    "epochs = 30\n",
    "batch_size = 100\n",
    "early_stopping = EarlyStopping(monitor='accuracy',\n",
    "                                patience=2,\n",
    "                                verbose=1 ,\n",
    "                                min_delta=0.005,\n",
    "                                mode='max')\n",
    "init_lr = 1e-3   #learning rate for the optimizer\n",
    "optimizer = Adam(learning_rate = init_lr)"
   ]
  },
  {
   "cell_type": "code",
   "execution_count": 7,
   "id": "c61e34f0-0104-4e09-895b-be901eeb4320",
   "metadata": {},
   "outputs": [],
   "source": [
    "#model compiling\n",
    "model.compile(optimizer = optimizer , loss = \"BinaryCrossentropy\", metrics=[\"accuracy\" , 'AUC', 'Precision', 'Recall'])"
   ]
  },
  {
   "cell_type": "code",
   "execution_count": 8,
   "id": "489fa5aa",
   "metadata": {},
   "outputs": [
    {
     "name": "stdout",
     "output_type": "stream",
     "text": [
      "Num GPUs Available:  2\n"
     ]
    }
   ],
   "source": [
    "print(\"Num GPUs Available: \", len(tf.config.list_logical_devices('GPU')))"
   ]
  },
  {
   "cell_type": "code",
   "execution_count": null,
   "id": "a3ba5b85-5539-4e9b-bdce-e2e5f4e78788",
   "metadata": {},
   "outputs": [
    {
     "name": "stdout",
     "output_type": "stream",
     "text": [
      "Epoch 1/30\n",
      "303/303 [==============================] - 158s 517ms/step - loss: 0.5680 - accuracy: 0.7935 - auc: 0.8424 - precision: 0.8177 - recall: 0.8417 - val_loss: 0.4203 - val_accuracy: 0.8283 - val_auc: 0.8973 - val_precision: 0.8398 - val_recall: 0.8716\n",
      "Epoch 2/30\n",
      "303/303 [==============================] - 171s 565ms/step - loss: 0.3523 - accuracy: 0.8572 - auc: 0.9253 - precision: 0.8683 - recall: 0.8968 - val_loss: 0.4038 - val_accuracy: 0.8450 - val_auc: 0.9099 - val_precision: 0.8726 - val_recall: 0.8595\n",
      "Epoch 3/30\n",
      "303/303 [==============================] - 169s 559ms/step - loss: 0.3023 - accuracy: 0.8776 - auc: 0.9437 - precision: 0.8896 - recall: 0.9077 - val_loss: 0.3987 - val_accuracy: 0.8420 - val_auc: 0.9120 - val_precision: 0.8551 - val_recall: 0.8774\n",
      "Epoch 4/30\n",
      "173/303 [================>.............] - ETA: 58s - loss: 0.2617 - accuracy: 0.8960 - auc: 0.9577 - precision: 0.9060 - recall: 0.9209"
     ]
    }
   ],
   "source": [
    "#model fitting\n",
    "with tf.device(\"/device:GPU:0\"):\n",
    "    history = model.fit(X_train, Y_train, batch_size = batch_size, epochs = epochs, \n",
    "              validation_data = (X_val, Y_val), verbose = 1, callbacks=[early_stopping])"
   ]
  },
  {
   "cell_type": "code",
   "execution_count": null,
   "id": "0c399b9a",
   "metadata": {},
   "outputs": [],
   "source": [
    "sns.lineplot(data=history['accuracy'])"
   ]
  },
  {
   "cell_type": "code",
   "execution_count": null,
   "id": "4469b08a",
   "metadata": {},
   "outputs": [],
   "source": [
    "plt.imshow(X[9800])\n",
    "plt.show()"
   ]
  },
  {
   "cell_type": "code",
   "execution_count": null,
   "id": "56ca8c49",
   "metadata": {},
   "outputs": [],
   "source": [
    "model.predict(X[9800].reshape(-1,100,100,3))\n"
   ]
  },
  {
   "cell_type": "code",
   "execution_count": null,
   "id": "70ebb272-c5ea-42f6-b2c5-4eaee33b7323",
   "metadata": {},
   "outputs": [],
   "source": [
    "#evaluate model:\n",
    "result = model.evaluate(X_test, Y_test, verbose=1)\n",
    "# print('The loss equal to' , result[0])\n",
    "# print('The accuarcy is' , result[1])"
   ]
  },
  {
   "cell_type": "code",
   "execution_count": null,
   "id": "19ad14e8-245d-42f4-99e8-cc2003f28b6e",
   "metadata": {},
   "outputs": [],
   "source": [
    "# Saving model\n",
    "model.save('modelvgg16-92.h5')"
   ]
  },
  {
   "cell_type": "code",
   "execution_count": null,
   "id": "26ac67b0-77b0-46a7-b54f-a535bab5a4ff",
   "metadata": {},
   "outputs": [],
   "source": [
    "model = load_model('model.h5')"
   ]
  },
  {
   "cell_type": "code",
   "execution_count": null,
   "id": "b01052d6-1805-4fd2-987e-f14cd521e83e",
   "metadata": {},
   "outputs": [],
   "source": [
    "y_pred =  model.predict(X_test)\n",
    "y_pred = np.argmax(y_pred,axis = 1)\n",
    "y_true = np.argmax(Y_test,axis = 1) \n",
    "metrics.ConfusionMatrixDisplay.from_predictions(y_true , y_pred)"
   ]
  },
  {
   "cell_type": "code",
   "execution_count": null,
   "id": "1f2664b2-7dc5-4b05-8550-20f4f20a290f",
   "metadata": {},
   "outputs": [],
   "source": []
  }
 ],
 "metadata": {
  "kernelspec": {
   "display_name": "Python 3 (ipykernel)",
   "language": "python",
   "name": "python3"
  },
  "language_info": {
   "codemirror_mode": {
    "name": "ipython",
    "version": 3
   },
   "file_extension": ".py",
   "mimetype": "text/x-python",
   "name": "python",
   "nbconvert_exporter": "python",
   "pygments_lexer": "ipython3",
   "version": "3.10.11"
  }
 },
 "nbformat": 4,
 "nbformat_minor": 5
}
