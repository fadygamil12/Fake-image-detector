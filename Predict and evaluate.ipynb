{
 "cells": [
  {
   "cell_type": "code",
   "execution_count": 3,
   "id": "6cc94464-0074-4ee1-9ef9-33cd8e1dc0e3",
   "metadata": {},
   "outputs": [],
   "source": [
    "#Imports\n",
    "import pandas as pd\n",
    "import numpy as np\n",
    "import seaborn as sns\n",
    "%matplotlib inline\n",
    "from keras.models import load_model\n",
    "import re\n",
    "from PIL import Image, ImageChops, ImageEnhance\n",
    "np.random.seed(2)\n",
    "import cv2\n",
    "import tensorflow as tf"
   ]
  },
  {
   "cell_type": "code",
   "execution_count": 6,
   "id": "21d694c4-e0a5-4b2c-9ab2-8348cef27e01",
   "metadata": {},
   "outputs": [],
   "source": [
    "#load model\n",
    "model = load_model('image_detector2.h5')"
   ]
  },
  {
   "cell_type": "code",
   "execution_count": 20,
   "id": "702e92df-e5fa-4af9-ba3d-69d3e76ed5a5",
   "metadata": {},
   "outputs": [],
   "source": [
    "def predict(path):\n",
    "    img = cv2.imread(path)\n",
    "    img = cv2.cvtColor(img, cv2.COLOR_BGR2RGB)\n",
    "    _, buffer = cv2.imencode(\".jpg\", img, [cv2.IMWRITE_JPEG_QUALITY, 90])\n",
    "    compressed_img = cv2.imdecode(np.frombuffer(buffer, np.uint8), cv2.IMREAD_COLOR)\n",
    "    img = 15 * cv2.absdiff(img, compressed_img)\n",
    "    img = cv2.resize(img , (100,100) , interpolation= cv2.INTER_AREA)\n",
    "    prediction = model.predict(img.reshape(-1,100,100,3))\n",
    "    if prediction >= 0.5:\n",
    "        return 'Real'\n",
    "    else:\n",
    "        return 'Fake'"
   ]
  },
  {
   "cell_type": "code",
   "execution_count": 25,
   "id": "760d3547-194f-4e9c-8a11-41316a434269",
   "metadata": {},
   "outputs": [
    {
     "name": "stdout",
     "output_type": "stream",
     "text": [
      "1/1 [==============================] - 0s 32ms/step\n"
     ]
    },
    {
     "data": {
      "text/plain": [
       "'Fake'"
      ]
     },
     "execution_count": 25,
     "metadata": {},
     "output_type": "execute_result"
    }
   ],
   "source": [
    "predict(r\"C:\\Users\\dell\\Desktop\\Inkedfac133ac-6870-4180-b5ca-1a5bf280a897_LI.jpg\")"
   ]
  },
  {
   "cell_type": "code",
   "execution_count": null,
   "id": "1107598e-a46c-4b16-9f4e-be13a5bb557d",
   "metadata": {},
   "outputs": [],
   "source": []
  }
 ],
 "metadata": {
  "kernelspec": {
   "display_name": "Python 3 (ipykernel)",
   "language": "python",
   "name": "python3"
  },
  "language_info": {
   "codemirror_mode": {
    "name": "ipython",
    "version": 3
   },
   "file_extension": ".py",
   "mimetype": "text/x-python",
   "name": "python",
   "nbconvert_exporter": "python",
   "pygments_lexer": "ipython3",
   "version": "3.10.11"
  }
 },
 "nbformat": 4,
 "nbformat_minor": 5
}
